{
 "metadata": {
  "name": ""
 },
 "nbformat": 3,
 "nbformat_minor": 0,
 "worksheets": [
  {
   "cells": [
    {
     "cell_type": "code",
     "collapsed": false,
     "input": [
      "from prody import *from prody import *"
     ],
     "language": "python",
     "metadata": {},
     "outputs": [],
     "prompt_number": 1
    },
    {
     "cell_type": "code",
     "collapsed": false,
     "input": [
      "native = parsePDB(\"3U43.pdb\")"
     ],
     "language": "python",
     "metadata": {},
     "outputs": [
      {
       "output_type": "stream",
       "stream": "stderr",
       "text": [
        "@> 2144 atoms and 1 coordinate set(s) were parsed in 0.02s.\n"
       ]
      }
     ],
     "prompt_number": 12
    },
    {
     "cell_type": "code",
     "collapsed": false,
     "input": [
      "def getWaterContactsSet(protein):\n",
      "    receptor = protein.select(\"protein and chain A\")\n",
      "    ligand = protein.select(\"protein and chain B\")\n",
      "    contactWater = protein.select(\"( (water and name O) within 3.5 of (protein and chain A) ) and\\\n",
      "    ( (water and name O) within 3.5 of (protein and chain B))\")\n",
      "    contacts = set([])\n",
      "    for wAt in contactWater:\n",
      "        recCont = receptor.select(\"sqrt(sq(x-%f) + sq(y-%f) + sq(z-%f)) < 3.5\"%tuple(wAt.getCoords()))\n",
      "        ligCont = ligand.select(\"sqrt(sq(x-%f) + sq(y-%f) + sq(z-%f)) < 3.5\"%tuple(wAt.getCoords()))\n",
      "        if recCont!=None and ligCont!=None:\n",
      "            for a in recCont:\n",
      "                for b in ligCont:\n",
      "                    contacts.add((a.getResname(),a.getResnum(),b.getResname(), b.getResnum()))\n",
      "                    contacts.add((b.getResname(), b.getResnum(),a.getResname(),a.getResnum()))\n",
      "    return contacts"
     ],
     "language": "python",
     "metadata": {},
     "outputs": [],
     "prompt_number": 45
    },
    {
     "cell_type": "code",
     "collapsed": false,
     "input": [
      "nativeContacts = getWaterContactsSet(native)"
     ],
     "language": "python",
     "metadata": {},
     "outputs": [],
     "prompt_number": 46
    },
    {
     "cell_type": "code",
     "collapsed": false,
     "input": [
      "def getFnat(native,model):\n",
      "    predicted = max(len(native - model),len(model - native))\n",
      "    return 1.0 - float(predicted)/float(len(native))"
     ],
     "language": "python",
     "metadata": {},
     "outputs": [],
     "prompt_number": 62
    },
    {
     "cell_type": "code",
     "collapsed": false,
     "input": [
      "pdbName = \"T47_P23.M01.pdb\"\n",
      "model = parsePDB(pdbName)\n",
      "modelContacts = getWaterContactsSet(model)\n",
      "fnat = getFnat(nativeContacts,modelContacts)\n",
      "print pdbName, fnat"
     ],
     "language": "python",
     "metadata": {},
     "outputs": [
      {
       "output_type": "stream",
       "stream": "stderr",
       "text": [
        "@> WARNING Discarding model 2, which contains more atoms than first model does.\n"
       ]
      },
      {
       "output_type": "stream",
       "stream": "stderr",
       "text": [
        "@> WARNING Discarding model 3, which contains 2124 fewer atoms than the first model does.\n"
       ]
      },
      {
       "output_type": "stream",
       "stream": "stderr",
       "text": [
        "@> 2127 atoms and 2 coordinate set(s) were parsed in 0.02s.\n"
       ]
      },
      {
       "output_type": "stream",
       "stream": "stdout",
       "text": [
        "T47_P23.M01.pdb 0.970588235294\n"
       ]
      }
     ],
     "prompt_number": 63
    },
    {
     "cell_type": "code",
     "collapsed": false,
     "input": [
      "print len(modelContacts), len(nativeContacts)\n",
      "print len(modelContacts.intersection(nativeContacts)), len(nativeContacts)"
     ],
     "language": "python",
     "metadata": {},
     "outputs": [
      {
       "output_type": "stream",
       "stream": "stdout",
       "text": [
        "70 68\n",
        "68 68\n"
       ]
      }
     ],
     "prompt_number": 59
    },
    {
     "cell_type": "code",
     "collapsed": false,
     "input": [
      "print modelContacts"
     ],
     "language": "python",
     "metadata": {},
     "outputs": [
      {
       "output_type": "stream",
       "stream": "stdout",
       "text": [
        "set([('LYS', 89, 'ASP', 51), ('ARG', 24, 'LYS', 81), ('ASP', 33, 'ARG', 98), ('ILE', 53, 'SER', 74), ('GLY', 27, 'LYS', 83), ('GLU', 97, 'ARG', 38), ('SER', 74, 'ILE', 53), ('ASP', 51, 'LYS', 90), ('ASP', 51, 'LYS', 89), ('GLU', 31, 'GLY', 95), ('GLU', 97, 'ASN', 34), ('LYS', 72, 'TYR', 55), ('SER', 50, 'GLN', 92), ('TYR', 55, 'LYS', 72), ('ASN', 34, 'GLU', 97), ('ASN', 78, 'TYR', 54), ('GLY', 95, 'GLU', 31), ('GLY', 73, 'ILE', 53), ('PRO', 56, 'LYS', 72), ('ARG', 98, 'GLU', 30), ('ASN', 78, 'ASP', 33), ('GLN', 92, 'ASP', 51), ('ALA', 87, 'SER', 50), ('TYR', 54, 'SER', 74), ('LYS', 81, 'GLU', 26), ('GLN', 92, 'SER', 50), ('GLU', 26, 'LYS', 81), ('ASP', 62, 'SER', 74), ('SER', 50, 'ALA', 87), ('THR', 77, 'CYS', 23), ('ARG', 98, 'ASN', 34), ('ASP', 51, 'ARG', 88), ('CYS', 23, 'THR', 77), ('GLU', 41, 'GLN', 92), ('LYS', 83, 'GLY', 27), ('ARG', 98, 'ASP', 33), ('ARG', 88, 'ASP', 51), ('TYR', 54, 'ASN', 78), ('ASP', 33, 'ASN', 78), ('ASN', 34, 'ARG', 98), ('LYS', 81, 'ARG', 24), ('TYR', 54, 'ASN', 75), ('ASN', 78, 'ILE', 22), ('GLY', 73, 'ASP', 62), ('GLY', 82, 'GLU', 30), ('SER', 74, 'TYR', 54), ('SER', 74, 'ASP', 62), ('LYS', 72, 'ASP', 58), ('GLU', 30, 'GLY', 82), ('LYS', 90, 'ASP', 51), ('GLN', 92, 'GLU', 41), ('ASN', 34, 'GLY', 95), ('TYR', 55, 'GLN', 70), ('TYR', 54, 'LYS', 72), ('GLU', 30, 'LYS', 83), ('GLN', 70, 'TYR', 55), ('ASP', 58, 'LYS', 72), ('LYS', 72, 'TYR', 54), ('ARG', 38, 'GLU', 97), ('ALA', 87, 'ASP', 51), ('GLU', 30, 'ARG', 98), ('GLY', 95, 'ASN', 34), ('LYS', 72, 'PRO', 56), ('ASP', 51, 'GLN', 92), ('ASP', 62, 'GLY', 73), ('ILE', 53, 'GLY', 73), ('ASN', 75, 'TYR', 54), ('LYS', 83, 'GLU', 30), ('ASP', 51, 'ALA', 87), ('ILE', 22, 'ASN', 78)])\n"
       ]
      }
     ],
     "prompt_number": 51
    },
    {
     "cell_type": "code",
     "collapsed": false,
     "input": [
      "print nativeContacts"
     ],
     "language": "python",
     "metadata": {},
     "outputs": [
      {
       "output_type": "stream",
       "stream": "stdout",
       "text": [
        "set([('ASP', 51, 'LYS', 89), ('LYS', 89, 'ASP', 51), ('ARG', 24, 'LYS', 81), ('ASP', 33, 'ARG', 98), ('ILE', 53, 'SER', 74), ('GLY', 95, 'ASN', 34), ('GLU', 97, 'ARG', 38), ('SER', 74, 'ILE', 53), ('ASP', 51, 'LYS', 90), ('ARG', 98, 'ASN', 34), ('GLU', 31, 'GLY', 95), ('GLU', 97, 'ASN', 34), ('LYS', 72, 'PRO', 56), ('LYS', 72, 'TYR', 55), ('SER', 50, 'GLN', 92), ('TYR', 55, 'LYS', 72), ('ASN', 34, 'GLU', 97), ('ASN', 78, 'TYR', 54), ('GLY', 95, 'GLU', 31), ('GLY', 73, 'ILE', 53), ('PRO', 56, 'LYS', 72), ('ARG', 98, 'GLU', 30), ('ASN', 78, 'ASP', 33), ('GLN', 92, 'ASP', 51), ('ALA', 87, 'SER', 50), ('TYR', 54, 'SER', 74), ('GLN', 92, 'SER', 50), ('GLU', 26, 'LYS', 81), ('ASP', 62, 'SER', 74), ('SER', 50, 'ALA', 87), ('THR', 77, 'CYS', 23), ('ASP', 51, 'ARG', 88), ('CYS', 23, 'THR', 77), ('GLU', 41, 'GLN', 92), ('ARG', 98, 'ASP', 33), ('ARG', 88, 'ASP', 51), ('TYR', 54, 'ASN', 78), ('LYS', 81, 'GLU', 26), ('ASN', 34, 'ARG', 98), ('LYS', 81, 'ARG', 24), ('TYR', 54, 'ASN', 75), ('ASN', 78, 'ILE', 22), ('GLY', 73, 'ASP', 62), ('GLY', 82, 'GLU', 30), ('SER', 74, 'TYR', 54), ('SER', 74, 'ASP', 62), ('LYS', 72, 'ASP', 58), ('GLU', 30, 'GLY', 82), ('LYS', 90, 'ASP', 51), ('GLN', 92, 'GLU', 41), ('ASN', 34, 'GLY', 95), ('TYR', 55, 'GLN', 70), ('TYR', 54, 'LYS', 72), ('GLN', 70, 'TYR', 55), ('GLU', 30, 'LYS', 83), ('ASP', 58, 'LYS', 72), ('LYS', 72, 'TYR', 54), ('ARG', 38, 'GLU', 97), ('ALA', 87, 'ASP', 51), ('GLU', 30, 'ARG', 98), ('ASP', 33, 'ASN', 78), ('ASP', 51, 'GLN', 92), ('ASP', 62, 'GLY', 73), ('ILE', 53, 'GLY', 73), ('ASN', 75, 'TYR', 54), ('LYS', 83, 'GLU', 30), ('ASP', 51, 'ALA', 87), ('ILE', 22, 'ASN', 78)])\n"
       ]
      }
     ],
     "prompt_number": 52
    },
    {
     "cell_type": "code",
     "collapsed": false,
     "input": [
      "fnats=[]\n",
      "for i in range(1,11):\n",
      "    pdbName = \"T47_P23.M%02d.pdb\"%i\n",
      "    model = parsePDB(pdbName)\n",
      "    modelContacts = getWaterContactsSet(model)\n",
      "    fnat = getFnat(nativeContacts,modelContacts)\n",
      "    fnats.append((pdbName, fnat))"
     ],
     "language": "python",
     "metadata": {},
     "outputs": [
      {
       "output_type": "stream",
       "stream": "stderr",
       "text": [
        "@> WARNING Discarding model 2, which contains more atoms than first model does.\n"
       ]
      },
      {
       "output_type": "stream",
       "stream": "stderr",
       "text": [
        "@> WARNING Discarding model 3, which contains 2124 fewer atoms than the first model does.\n"
       ]
      },
      {
       "output_type": "stream",
       "stream": "stderr",
       "text": [
        "@> 2127 atoms and 2 coordinate set(s) were parsed in 0.02s.\n"
       ]
      },
      {
       "output_type": "stream",
       "stream": "stderr",
       "text": [
        "@> WARNING Discarding model 2, which contains more atoms than first model does.\n"
       ]
      },
      {
       "output_type": "stream",
       "stream": "stderr",
       "text": [
        "@> WARNING Discarding model 3, which contains 2124 fewer atoms than the first model does.\n"
       ]
      },
      {
       "output_type": "stream",
       "stream": "stderr",
       "text": [
        "@> 2127 atoms and 2 coordinate set(s) were parsed in 0.02s.\n"
       ]
      },
      {
       "output_type": "stream",
       "stream": "stderr",
       "text": [
        "@> WARNING Discarding model 2, which contains more atoms than first model does.\n"
       ]
      },
      {
       "output_type": "stream",
       "stream": "stderr",
       "text": [
        "@> WARNING Discarding model 3, which contains 2124 fewer atoms than the first model does.\n"
       ]
      },
      {
       "output_type": "stream",
       "stream": "stderr",
       "text": [
        "@> 2127 atoms and 2 coordinate set(s) were parsed in 0.02s.\n"
       ]
      },
      {
       "output_type": "stream",
       "stream": "stderr",
       "text": [
        "@> WARNING Discarding model 2, which contains more atoms than first model does.\n"
       ]
      },
      {
       "output_type": "stream",
       "stream": "stderr",
       "text": [
        "@> WARNING Discarding model 3, which contains 2124 fewer atoms than the first model does.\n"
       ]
      },
      {
       "output_type": "stream",
       "stream": "stderr",
       "text": [
        "@> 2127 atoms and 2 coordinate set(s) were parsed in 0.02s.\n"
       ]
      },
      {
       "output_type": "stream",
       "stream": "stderr",
       "text": [
        "@> WARNING Discarding model 2, which contains more atoms than first model does.\n"
       ]
      },
      {
       "output_type": "stream",
       "stream": "stderr",
       "text": [
        "@> WARNING Discarding model 3, which contains 2124 fewer atoms than the first model does.\n"
       ]
      },
      {
       "output_type": "stream",
       "stream": "stderr",
       "text": [
        "@> 2127 atoms and 2 coordinate set(s) were parsed in 0.02s.\n"
       ]
      },
      {
       "output_type": "stream",
       "stream": "stderr",
       "text": [
        "@> WARNING Discarding model 2, which contains more atoms than first model does.\n"
       ]
      },
      {
       "output_type": "stream",
       "stream": "stderr",
       "text": [
        "@> WARNING Discarding model 3, which contains 2124 fewer atoms than the first model does.\n"
       ]
      },
      {
       "output_type": "stream",
       "stream": "stderr",
       "text": [
        "@> 2127 atoms and 2 coordinate set(s) were parsed in 0.02s.\n"
       ]
      },
      {
       "output_type": "stream",
       "stream": "stderr",
       "text": [
        "@> WARNING Discarding model 2, which contains more atoms than first model does.\n"
       ]
      },
      {
       "output_type": "stream",
       "stream": "stderr",
       "text": [
        "@> WARNING Discarding model 3, which contains 2124 fewer atoms than the first model does.\n"
       ]
      },
      {
       "output_type": "stream",
       "stream": "stderr",
       "text": [
        "@> 2127 atoms and 2 coordinate set(s) were parsed in 0.02s.\n"
       ]
      },
      {
       "output_type": "stream",
       "stream": "stderr",
       "text": [
        "@> 2127 atoms and 1 coordinate set(s) were parsed in 0.02s.\n"
       ]
      },
      {
       "output_type": "stream",
       "stream": "stderr",
       "text": [
        "@> 2127 atoms and 1 coordinate set(s) were parsed in 0.02s.\n"
       ]
      },
      {
       "output_type": "stream",
       "stream": "stderr",
       "text": [
        "@> 2127 atoms and 1 coordinate set(s) were parsed in 0.02s.\n"
       ]
      }
     ],
     "prompt_number": 64
    },
    {
     "cell_type": "code",
     "collapsed": false,
     "input": [
      "print fnats"
     ],
     "language": "python",
     "metadata": {},
     "outputs": [
      {
       "output_type": "stream",
       "stream": "stdout",
       "text": [
        "[('T47_P23.M01.pdb', 0.9705882352941176), ('T47_P23.M02.pdb', 0.9705882352941176), ('T47_P23.M03.pdb', 0.9705882352941176), ('T47_P23.M04.pdb', 0.9705882352941176), ('T47_P23.M05.pdb', 0.9705882352941176), ('T47_P23.M06.pdb', 0.9705882352941176), ('T47_P23.M07.pdb', 0.9705882352941176), ('T47_P23.M08.pdb', 0.9705882352941176), ('T47_P23.M09.pdb', 0.9705882352941176), ('T47_P23.M10.pdb', 0.9705882352941176)]\n"
       ]
      }
     ],
     "prompt_number": 65
    },
    {
     "cell_type": "code",
     "collapsed": false,
     "input": [],
     "language": "python",
     "metadata": {},
     "outputs": []
    }
   ],
   "metadata": {}
  }
 ]
}