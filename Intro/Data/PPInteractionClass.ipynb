{
 "metadata": {
  "name": ""
 },
 "nbformat": 3,
 "nbformat_minor": 0,
 "worksheets": [
  {
   "cells": [
    {
     "cell_type": "code",
     "collapsed": false,
     "input": [
      "import matplotlib.pylab as plt\n",
      "import prettyplotlib as ppl"
     ],
     "language": "python",
     "metadata": {},
     "outputs": [],
     "prompt_number": 1
    },
    {
     "cell_type": "code",
     "collapsed": false,
     "input": [
      "affData = open(\"affinity.tsv\",\"r\")\n",
      "header = affData.readline()\n",
      "header = affData.readline()\n",
      "print header.split('\\t')\n",
      "affTable=[]\n",
      "for line in affData:\n",
      "    aline=line.split('\\t')\n",
      "    affTable.append((aline[1],aline[2],aline[4],aline[7]))\n",
      "    #print aline\n",
      "affData.close()"
     ],
     "language": "python",
     "metadata": {},
     "outputs": [
      {
       "output_type": "stream",
       "stream": "stdout",
       "text": [
        "['\"Complex PDB\"', '\"Type\"', '\"Unbound PDB\"', '\"Protein A\"', '\"Unbound PDB\"', '\"Protein B\"', '\"Pubmed\"', '\"Kd (M)\"', '\"dG\"', '\"I-RMSD\"', '\"DASA \"', '\"Method\"', '\"Final Comments\"', '\"Temperature (C)\"', '\"pH\"', '\"Buffer/Ionic Strength\"', '\"Cofactors (bound)\"', '\"Cofactors (unbound)\"', '\"Cofactors (binding)\"', '\"Extra Data\"', '\"Corroborating Data\"', '\"Exact finding in: \"\\n']\n"
       ]
      }
     ],
     "prompt_number": 10
    },
    {
     "cell_type": "code",
     "collapsed": false,
     "input": [
      "print affTable[10]"
     ],
     "language": "python",
     "metadata": {},
     "outputs": [
      {
       "output_type": "stream",
       "stream": "stdout",
       "text": [
        "('\"AB\"', '\"1BJ1_HL\"', '\"2VPF_GH\"', '3.4e-09')\n"
       ]
      }
     ],
     "prompt_number": 14
    },
    {
     "cell_type": "code",
     "collapsed": false,
     "input": [],
     "language": "python",
     "metadata": {},
     "outputs": []
    }
   ],
   "metadata": {}
  }
 ]
}