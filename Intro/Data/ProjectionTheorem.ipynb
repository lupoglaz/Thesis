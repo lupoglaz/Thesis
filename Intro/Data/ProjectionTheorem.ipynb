{
 "metadata": {
  "name": ""
 },
 "nbformat": 3,
 "nbformat_minor": 0,
 "worksheets": [
  {
   "cells": [
    {
     "cell_type": "code",
     "collapsed": false,
     "input": [
      "import matplotlib.pylab as plt\n",
      "import prettyplotlib as ppl\n",
      "import numpy as np"
     ],
     "language": "python",
     "metadata": {},
     "outputs": [],
     "prompt_number": 1
    },
    {
     "cell_type": "code",
     "collapsed": false,
     "input": [
      "def edm(x,y,z):\n",
      "    atoms = [(-1,0,0), (0,2,0),(0,0,1)]\n",
      "    s = 0\n",
      "    for atom in atoms:\n",
      "        s+= ((x-atom[0])**2)+((y-atom[1])**2)+((z-atom[2])**2)\n",
      "    res = np.exp(-s/2.0)\n",
      "    return res"
     ],
     "language": "python",
     "metadata": {},
     "outputs": [],
     "prompt_number": 2
    },
    {
     "cell_type": "code",
     "collapsed": false,
     "input": [
      "import numpy as np\n",
      "from enthought.mayavi import mlab\n",
      "\n",
      "x, y, z = np.ogrid[-2:2:20j, -1:1:20j, -1:1:20j]\n",
      "\n",
      "s = np.exp(-( (x-1.0)*(x-1.0) + (y)*(y) + (z)*(z) ) )+\\\n",
      "np.exp(-( (x+1.0)*(x+1.0) + (y)*(y) + (z)*(z) ) )\n",
      "\n",
      "src = mlab.pipeline.scalar_field(s)\n",
      "mlab.pipeline.iso_surface(src, contours=[s.min()+0.1*s.ptp(), ], opacity=0.7)\n",
      "\n",
      "mlab.pipeline.image_plane_widget(mlab.pipeline.scalar_field(s),\n",
      "                            plane_orientation='y_axes',\n",
      "                            slice_index=10,\n",
      "                        )\n",
      "mlab.outline()\n",
      "mlab.savefig(\"lol.png\")\n"
     ],
     "language": "python",
     "metadata": {},
     "outputs": [
      {
       "output_type": "stream",
       "stream": "stderr",
       "text": [
        "Exception occurred in traits notification handler for object: <enthought.mayavi.core.engine.Engine object at 0x98cfa10>, trait: children_ui_list, old value: scenes_items, new value: [<enthought.mayavi.core.scene.Scene object at 0xcd92e30>]\n",
        "Traceback (most recent call last):\n",
        "  File \"/usr/lib64/python2.7/site-packages/enthought/traits/trait_notifiers.py\", line 504, in rebind_call_3\n",
        "    object, trait_name, new )\n",
        "  File \"/usr/lib64/python2.7/site-packages/enthought/traits/trait_notifiers.py\", line 598, in dispatch\n",
        "    handler( *args )\n",
        "  File \"/usr/lib/python2.7/site-packages/enthought/traits/ui/qt4/tree_editor.py\", line 1336, in _children_replaced\n",
        "    child, child_node = self._node_for( child )\n",
        "  File \"/usr/lib/python2.7/site-packages/enthought/traits/ui/qt4/tree_editor.py\", line 546, in _node_for\n",
        "    nodes   = [ node for node in factory.nodes\n",
        "AttributeError: 'NoneType' object has no attribute 'nodes'\n"
       ]
      },
      {
       "output_type": "stream",
       "stream": "stdout",
       "text": [
        "Cannot set extents for <enthought.mayavi.modules.image_plane_widget.ImagePlaneWidget object at 0xbe43cb0>\n"
       ]
      }
     ],
     "prompt_number": 4
    },
    {
     "cell_type": "code",
     "collapsed": false,
     "input": [],
     "language": "python",
     "metadata": {},
     "outputs": [],
     "prompt_number": 2
    },
    {
     "cell_type": "code",
     "collapsed": false,
     "input": [],
     "language": "python",
     "metadata": {},
     "outputs": []
    }
   ],
   "metadata": {}
  }
 ]
}